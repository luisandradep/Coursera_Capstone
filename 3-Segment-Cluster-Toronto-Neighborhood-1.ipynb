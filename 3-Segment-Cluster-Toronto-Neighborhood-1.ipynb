{
    "cells": [
        {
            "cell_type": "markdown",
            "metadata": {},
            "source": "## Segmenting and Clustering Neighborhooods in Toronto\n## Part 1: Webscraping and Dataframe construction\n\n### Applied Data Science Project\n\n#### Luis Andrade, August 2021"
        },
        {
            "cell_type": "markdown",
            "metadata": {},
            "source": "We are going to extract neighborhood information about Toronto by scraping a Wikipedia page.\n\nTo achieve this we will scrap the webpage using the Beautiful Soup library.\n\nIf you don't have this package, run this installation code first. Otherwise, omit it and go to the next cell."
        },
        {
            "cell_type": "code",
            "execution_count": null,
            "metadata": {},
            "outputs": [],
            "source": "!pip install bs4"
        },
        {
            "cell_type": "markdown",
            "metadata": {},
            "source": "Import libraries"
        },
        {
            "cell_type": "code",
            "execution_count": 1,
            "metadata": {},
            "outputs": [],
            "source": "from bs4 import BeautifulSoup #Webscraping library\nimport requests\nimport pandas as pd"
        },
        {
            "cell_type": "markdown",
            "metadata": {},
            "source": "Save the url address with the required data into a variable:"
        },
        {
            "cell_type": "code",
            "execution_count": 2,
            "metadata": {},
            "outputs": [],
            "source": "url = 'https://en.wikipedia.org/wiki/List_of_postal_codes_of_Canada:_M'"
        },
        {
            "cell_type": "markdown",
            "metadata": {},
            "source": "Download the web page content in text format:"
        },
        {
            "cell_type": "code",
            "execution_count": 3,
            "metadata": {},
            "outputs": [],
            "source": "data_req = requests.get(url).text"
        },
        {
            "cell_type": "markdown",
            "metadata": {},
            "source": "Create a soup object:"
        },
        {
            "cell_type": "code",
            "execution_count": 4,
            "metadata": {},
            "outputs": [],
            "source": "soup = BeautifulSoup(data_req, 'html5lib')"
        },
        {
            "cell_type": "markdown",
            "metadata": {},
            "source": "Find table information of the page:"
        },
        {
            "cell_type": "code",
            "execution_count": 5,
            "metadata": {},
            "outputs": [],
            "source": "table = soup.find('table') #Find html tables, represented by <table> tag"
        },
        {
            "cell_type": "markdown",
            "metadata": {},
            "source": "The next step is to wrangle the table data into a structured data classified by postal code, borough and neighborhood. First we create an empty list to be filled by dictionaries due to be filled with information contained in each html  cell (**td**) of the web page table. There are some additional considerations:\n\n- Cells with 'Not assigned' information will be omitted. \n- Postal codes are 3 character long.\n- Borough comes between the postal codes and the first parenthesis opening '('.\n- Neighborhoods come next between parenthesis and separated by slashes which will be replaced by commas for our dataframe."
        },
        {
            "cell_type": "code",
            "execution_count": 6,
            "metadata": {},
            "outputs": [],
            "source": "#Create empty list that will be populated with dictionaries\ncode_table=[]\n\nfor row in table.findAll('td'):\n    cell = {}\n    #Omit records with not assigned information\n    if row.span.text=='Not assigned':\n        pass\n    else:\n        # Postal codes are 3 character long\n        cell['PostalCode'] = row.p.text[:3]\n        # Borough follow next and before the parenthesis opening\n        cell['Borough'] = (row.span.text).split('(')[0]\n        # Neighborhood info lies between parenthesis, separated by slashes\n        cell['Neighborhood'] = (((((row.span.text).split('(')[1]).strip(')')).replace(' /',',')).replace(')',' ')).strip(' ')\n        code_table.append(cell)"
        },
        {
            "cell_type": "markdown",
            "metadata": {},
            "source": "Convert Toronto postal code table to Pandas dataframe:"
        },
        {
            "cell_type": "code",
            "execution_count": 7,
            "metadata": {},
            "outputs": [
                {
                    "data": {
                        "text/html": "<div>\n<style scoped>\n    .dataframe tbody tr th:only-of-type {\n        vertical-align: middle;\n    }\n\n    .dataframe tbody tr th {\n        vertical-align: top;\n    }\n\n    .dataframe thead th {\n        text-align: right;\n    }\n</style>\n<table border=\"1\" class=\"dataframe\">\n  <thead>\n    <tr style=\"text-align: right;\">\n      <th></th>\n      <th>PostalCode</th>\n      <th>Borough</th>\n      <th>Neighborhood</th>\n    </tr>\n  </thead>\n  <tbody>\n    <tr>\n      <th>0</th>\n      <td>M3A</td>\n      <td>North York</td>\n      <td>Parkwoods</td>\n    </tr>\n    <tr>\n      <th>1</th>\n      <td>M4A</td>\n      <td>North York</td>\n      <td>Victoria Village</td>\n    </tr>\n    <tr>\n      <th>2</th>\n      <td>M5A</td>\n      <td>Downtown Toronto</td>\n      <td>Regent Park, Harbourfront</td>\n    </tr>\n    <tr>\n      <th>3</th>\n      <td>M6A</td>\n      <td>North York</td>\n      <td>Lawrence Manor, Lawrence Heights</td>\n    </tr>\n    <tr>\n      <th>4</th>\n      <td>M7A</td>\n      <td>Queen's Park</td>\n      <td>Ontario Provincial Government</td>\n    </tr>\n  </tbody>\n</table>\n</div>",
                        "text/plain": "  PostalCode           Borough                      Neighborhood\n0        M3A        North York                         Parkwoods\n1        M4A        North York                  Victoria Village\n2        M5A  Downtown Toronto         Regent Park, Harbourfront\n3        M6A        North York  Lawrence Manor, Lawrence Heights\n4        M7A      Queen's Park     Ontario Provincial Government"
                    },
                    "execution_count": 7,
                    "metadata": {},
                    "output_type": "execute_result"
                }
            ],
            "source": "df=pd.DataFrame(code_table)\ndf.head()"
        },
        {
            "cell_type": "markdown",
            "metadata": {},
            "source": "The head looks good, however, we could see in the web page that there are some information anomalies that affected some borough names of Toronto and were replicated in our dataframe such as:\n- MississaugaCanada Post Gateway Processing Centre\n- Downtown TorontoStn A PO Boxes25 The Esplanade\n- EtobicokeNorthwest\n- East TorontoBusiness reply mail Processing Centre969 Eastern"
        },
        {
            "cell_type": "code",
            "execution_count": 8,
            "metadata": {
                "scrolled": true
            },
            "outputs": [
                {
                    "data": {
                        "text/plain": "array(['North York', 'Downtown Toronto', \"Queen's Park\", 'Etobicoke',\n       'Scarborough', 'East York', 'York', 'East Toronto', 'West Toronto',\n       'East YorkEast Toronto', 'Central Toronto',\n       'MississaugaCanada Post Gateway Processing Centre',\n       'Downtown TorontoStn A PO Boxes25 The Esplanade',\n       'EtobicokeNorthwest',\n       'East TorontoBusiness reply mail Processing Centre969 Eastern'],\n      dtype=object)"
                    },
                    "execution_count": 8,
                    "metadata": {},
                    "output_type": "execute_result"
                }
            ],
            "source": "df['Borough'].unique()"
        },
        {
            "cell_type": "markdown",
            "metadata": {},
            "source": "These anomalous borough names are then changed to appropriate names:"
        },
        {
            "cell_type": "code",
            "execution_count": 9,
            "metadata": {},
            "outputs": [
                {
                    "data": {
                        "text/plain": "array(['North York', 'Downtown Toronto', \"Queen's Park\", 'Etobicoke',\n       'Scarborough', 'East York', 'York', 'East Toronto', 'West Toronto',\n       'East York/East Toronto', 'Central Toronto', 'Mississauga',\n       'Downtown Toronto Stn A', 'Etobicoke Northwest',\n       'East Toronto Business'], dtype=object)"
                    },
                    "execution_count": 9,
                    "metadata": {},
                    "output_type": "execute_result"
                }
            ],
            "source": "df['Borough'] = df['Borough'].replace({\n                                      'Downtown TorontoStn A PO Boxes25 The Esplanade':'Downtown Toronto Stn A',\n                                      'East TorontoBusiness reply mail Processing Centre969 Eastern':'East Toronto Business',\n                                      'EtobicokeNorthwest':'Etobicoke Northwest',\n                                      'East YorkEast Toronto':'East York/East Toronto',\n                                      'MississaugaCanada Post Gateway Processing Centre':'Mississauga'\n                                      })\ndf['Borough'].unique()"
        },
        {
            "cell_type": "markdown",
            "metadata": {},
            "source": "Now the listed boroughs have accurate names. Finally, we give a final display of the first 10 postal codes and find the shape of the Toronto postal code dataframe:"
        },
        {
            "cell_type": "code",
            "execution_count": 10,
            "metadata": {},
            "outputs": [
                {
                    "name": "stdout",
                    "output_type": "stream",
                    "text": "(103, 3)\n"
                },
                {
                    "data": {
                        "text/html": "<div>\n<style scoped>\n    .dataframe tbody tr th:only-of-type {\n        vertical-align: middle;\n    }\n\n    .dataframe tbody tr th {\n        vertical-align: top;\n    }\n\n    .dataframe thead th {\n        text-align: right;\n    }\n</style>\n<table border=\"1\" class=\"dataframe\">\n  <thead>\n    <tr style=\"text-align: right;\">\n      <th></th>\n      <th>PostalCode</th>\n      <th>Borough</th>\n      <th>Neighborhood</th>\n    </tr>\n  </thead>\n  <tbody>\n    <tr>\n      <th>0</th>\n      <td>M3A</td>\n      <td>North York</td>\n      <td>Parkwoods</td>\n    </tr>\n    <tr>\n      <th>1</th>\n      <td>M4A</td>\n      <td>North York</td>\n      <td>Victoria Village</td>\n    </tr>\n    <tr>\n      <th>2</th>\n      <td>M5A</td>\n      <td>Downtown Toronto</td>\n      <td>Regent Park, Harbourfront</td>\n    </tr>\n    <tr>\n      <th>3</th>\n      <td>M6A</td>\n      <td>North York</td>\n      <td>Lawrence Manor, Lawrence Heights</td>\n    </tr>\n    <tr>\n      <th>4</th>\n      <td>M7A</td>\n      <td>Queen's Park</td>\n      <td>Ontario Provincial Government</td>\n    </tr>\n    <tr>\n      <th>5</th>\n      <td>M9A</td>\n      <td>Etobicoke</td>\n      <td>Islington Avenue</td>\n    </tr>\n    <tr>\n      <th>6</th>\n      <td>M1B</td>\n      <td>Scarborough</td>\n      <td>Malvern, Rouge</td>\n    </tr>\n    <tr>\n      <th>7</th>\n      <td>M3B</td>\n      <td>North York</td>\n      <td>Don Mills North</td>\n    </tr>\n    <tr>\n      <th>8</th>\n      <td>M4B</td>\n      <td>East York</td>\n      <td>Parkview Hill, Woodbine Gardens</td>\n    </tr>\n    <tr>\n      <th>9</th>\n      <td>M5B</td>\n      <td>Downtown Toronto</td>\n      <td>Garden District, Ryerson</td>\n    </tr>\n  </tbody>\n</table>\n</div>",
                        "text/plain": "  PostalCode           Borough                      Neighborhood\n0        M3A        North York                         Parkwoods\n1        M4A        North York                  Victoria Village\n2        M5A  Downtown Toronto         Regent Park, Harbourfront\n3        M6A        North York  Lawrence Manor, Lawrence Heights\n4        M7A      Queen's Park     Ontario Provincial Government\n5        M9A         Etobicoke                  Islington Avenue\n6        M1B       Scarborough                    Malvern, Rouge\n7        M3B        North York                   Don Mills North\n8        M4B         East York   Parkview Hill, Woodbine Gardens\n9        M5B  Downtown Toronto          Garden District, Ryerson"
                    },
                    "execution_count": 10,
                    "metadata": {},
                    "output_type": "execute_result"
                }
            ],
            "source": "print(df.shape)\ndf.head(10)"
        },
        {
            "cell_type": "markdown",
            "metadata": {},
            "source": "As we can see, we have 103 samples, postal codes in our case, with 3 features: Postal code, borough and neighborhoods."
        },
        {
            "cell_type": "code",
            "execution_count": 11,
            "metadata": {},
            "outputs": [],
            "source": "df.to_csv('toronto_codes.csv')"
        },
        {
            "cell_type": "code",
            "execution_count": null,
            "metadata": {},
            "outputs": [],
            "source": ""
        }
    ],
    "metadata": {
        "kernelspec": {
            "display_name": "Python 3.7",
            "language": "python",
            "name": "python3"
        },
        "language_info": {
            "codemirror_mode": {
                "name": "ipython",
                "version": 3
            },
            "file_extension": ".py",
            "mimetype": "text/x-python",
            "name": "python",
            "nbconvert_exporter": "python",
            "pygments_lexer": "ipython3",
            "version": "3.7.10"
        }
    },
    "nbformat": 4,
    "nbformat_minor": 4
}